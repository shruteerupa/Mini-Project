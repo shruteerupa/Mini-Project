{
  "nbformat": 4,
  "nbformat_minor": 0,
  "metadata": {
    "colab": {
      "name": "minor project",
      "provenance": [],
      "authorship_tag": "ABX9TyNwm5Wlf8iNRrV2OTgHIVG/",
      "include_colab_link": true
    },
    "kernelspec": {
      "name": "python3",
      "display_name": "Python 3"
    },
    "language_info": {
      "name": "python"
    }
  },
  "cells": [
    {
      "cell_type": "markdown",
      "metadata": {
        "id": "view-in-github",
        "colab_type": "text"
      },
      "source": [
        "<a href=\"https://colab.research.google.com/github/shruteerupa/Mini-Project/blob/main/minor_project.ipynb\" target=\"_parent\"><img src=\"https://colab.research.google.com/assets/colab-badge.svg\" alt=\"Open In Colab\"/></a>"
      ]
    },
    {
      "cell_type": "code",
      "metadata": {
        "colab": {
          "base_uri": "https://localhost:8080/"
        },
        "id": "fsSG4oAjQno4",
        "outputId": "576dbb31-b40f-44c1-8cd8-2669c04be537"
      },
      "source": [
        "!pip install bing-image-downloader\n"
      ],
      "execution_count": null,
      "outputs": [
        {
          "output_type": "stream",
          "text": [
            "Collecting bing-image-downloader\n",
            "  Downloading https://files.pythonhosted.org/packages/0d/bf/537a61030b84ae4cd5022d5c7b014fd9bc3ce7c02358919153a6658a61d3/bing_image_downloader-1.0.4-py3-none-any.whl\n",
            "Installing collected packages: bing-image-downloader\n",
            "Successfully installed bing-image-downloader-1.0.4\n"
          ],
          "name": "stdout"
        }
      ]
    },
    {
      "cell_type": "code",
      "metadata": {
        "colab": {
          "base_uri": "https://localhost:8080/"
        },
        "id": "rPdmCO1RRrvN",
        "outputId": "d9fa7e8b-fa70-40ef-e59a-8466b38ece6b"
      },
      "source": [
        "!mkdir images\n"
      ],
      "execution_count": null,
      "outputs": [
        {
          "output_type": "stream",
          "text": [
            "mkdir: cannot create directory ‘images’: File exists\n"
          ],
          "name": "stdout"
        }
      ]
    },
    {
      "cell_type": "code",
      "metadata": {
        "colab": {
          "base_uri": "https://localhost:8080/"
        },
        "id": "cAKhFtrLSQuX",
        "outputId": "b7dd335b-f12d-4a4a-9a2e-8237019fdb62"
      },
      "source": [
        "from  bing_image_downloader import downloader\n",
        "downloader.download(\"apple fruit\",limit=10,output_dir='images')"
      ],
      "execution_count": null,
      "outputs": [
        {
          "output_type": "stream",
          "text": [
            "\n",
            "\n",
            "[!!]Indexing page: 1\n",
            "\n",
            "[%] Indexed 10 Images on Page 1.\n",
            "\n",
            "===============================================\n",
            "\n",
            "[%] Downloading Image #1 from https://www.isons.com/wp-content/uploads/2016/10/Arkansas-Black-Apple-683x1024.jpg\n",
            "[%] File Downloaded !\n",
            "\n",
            "[%] Downloading Image #2 from https://userfiles.steadyhealth.com/images/ic/does-vinegar-diet-really-work.jpg\n",
            "[%] File Downloaded !\n",
            "\n",
            "[%] Downloading Image #3 from https://upload.wikimedia.org/wikipedia/commons/2/2c/Billardiera_scandens_Lawson_fruit_email.jpg\n",
            "[%] File Downloaded !\n",
            "\n",
            "[%] Downloading Image #4 from http://www.westwoodgardens.com/wp-content/uploads/2017/11/String-Of-Nickels.jpg\n",
            "[%] File Downloaded !\n",
            "\n",
            "[%] Downloading Image #5 from https://www.canr.msu.edu/uploads/images/budswell.jpg\n",
            "[%] File Downloaded !\n",
            "\n",
            "[%] Downloading Image #6 from https://www.justataste.com/wp-content/uploads/2014/07/green-juice_recipe.jpg\n",
            "[%] File Downloaded !\n",
            "\n",
            "[%] Downloading Image #7 from https://healthyfoodhouse.com/wp-content/uploads/2017/02/columnar-fruit-trees-create-city-orchard-amazing-dwarf-fruit-trees1.jpg\n",
            "[%] File Downloaded !\n",
            "\n",
            "[%] Downloading Image #8 from https://treespiritwisdom.files.wordpress.com/2018/06/shutterstock_767514175.jpg?w=900\n",
            "[%] File Downloaded !\n",
            "\n",
            "[%] Downloading Image #9 from https://40acrewoods.com/wp-content/uploads/2013/08/IMG_3491-225x300.jpg\n",
            "[%] File Downloaded !\n",
            "\n",
            "[%] Downloading Image #10 from https://www.thetreecenter.com/wp-content/uploads/pawpaw-1-526x700.jpg\n",
            "[%] File Downloaded !\n",
            "\n"
          ],
          "name": "stdout"
        }
      ]
    },
    {
      "cell_type": "code",
      "metadata": {
        "colab": {
          "base_uri": "https://localhost:8080/"
        },
        "id": "FrX_g2niTHlv",
        "outputId": "d0f0f179-89a9-448b-fe0b-d3ce2ed3d833"
      },
      "source": [
        "from  bing_image_downloader import downloader\n",
        "downloader.download(\"ice cream\",limit=10,output_dir='images')"
      ],
      "execution_count": null,
      "outputs": [
        {
          "output_type": "stream",
          "text": [
            "\n",
            "\n",
            "[!!]Indexing page: 1\n",
            "\n",
            "[%] Indexed 10 Images on Page 1.\n",
            "\n",
            "===============================================\n",
            "\n",
            "[%] Downloading Image #1 from https://homemadehooplah.com/wp-content/uploads/2016/06/cotton-candy-ice-cream-1.jpg\n",
            "[%] File Downloaded !\n",
            "\n",
            "[%] Downloading Image #2 from https://oddstuffmagazine.com/wp-content/uploads/2015/10/Babe-Lincoln.jpg\n",
            "[%] File Downloaded !\n",
            "\n",
            "[%] Downloading Image #3 from https://newyork.seriouseats.com/20100507Jahns.JPG\n",
            "[%] File Downloaded !\n",
            "\n",
            "[%] Downloading Image #4 from https://www.mancinisicecream.co.uk/website/wp-content/uploads/2015/09/wedding-cakes-009-773x1030.jpg\n",
            "[%] File Downloaded !\n",
            "\n",
            "[%] Downloading Image #5 from https://i.pinimg.com/736x/84/14/fe/8414fe41cfa76f5979831589237116de.jpg\n",
            "[%] File Downloaded !\n",
            "\n",
            "[%] Downloading Image #6 from http://www.umass.edu/admissions/sites/default/files/fullsizeoutput_11bc.jpeg\n",
            "[%] File Downloaded !\n",
            "\n",
            "[%] Downloading Image #7 from http://www.stylemotivation.com/wp-content/uploads/2014/07/coffee-recipes-3-620x930.jpg\n",
            "[%] File Downloaded !\n",
            "\n",
            "[%] Downloading Image #8 from http://cdn.onlyinyourstate.com/wp-content/uploads/2016/03/z-87.jpg\n",
            "[%] File Downloaded !\n",
            "\n",
            "[%] Downloading Image #9 from https://www.femalefoodie.com/wp-content/uploads/2019/02/dole-whip-3.jpg\n",
            "[%] File Downloaded !\n",
            "\n",
            "[%] Downloading Image #10 from https://www.greetingsisland.com/images/Cards/birthday/Football-birthday.jpg\n",
            "[%] File Downloaded !\n",
            "\n"
          ],
          "name": "stdout"
        }
      ]
    },
    {
      "cell_type": "code",
      "metadata": {
        "colab": {
          "base_uri": "https://localhost:8080/"
        },
        "id": "UG63y6_8VfRB",
        "outputId": "016f70ab-da59-4e2e-ca80-22da54669bcc"
      },
      "source": [
        "from  bing_image_downloader import downloader\n",
        "downloader.download(\"orange fruit\",limit=10,output_dir='images')"
      ],
      "execution_count": null,
      "outputs": [
        {
          "output_type": "stream",
          "text": [
            "\n",
            "\n",
            "[!!]Indexing page: 1\n",
            "\n",
            "[%] Indexed 11 Images on Page 1.\n",
            "\n",
            "===============================================\n",
            "\n",
            "[%] Downloading Image #1 from https://www.thetreecenter.com/wp-content/uploads/valencia-orange-2.jpg\n",
            "[%] File Downloaded !\n",
            "\n",
            "[%] Downloading Image #2 from https://www.unilad.co.uk/wp-content/uploads/2016/12/50046UNILAD-imageoptim-martini-6.gif\n",
            "[%] File Downloaded !\n",
            "\n",
            "[%] Downloading Image #3 from https://www.bing.com/th/id/OGC.9f67b10eb527447788297656620ebe1b?pid=1.7&amp;rurl=https%3a%2f%2fwww.unilad.co.uk%2fwp-content%2fuploads%2f2016%2f12%2f50046UNILAD-imageoptim-martini-6.gif&amp;ehk=Xat16ScgeyYwheP11BF%2fyFdiDRfs6jRWarzL8%2fwWCNw%3d\n",
            "[!] Issue getting: https://www.bing.com/th/id/OGC.9f67b10eb527447788297656620ebe1b?pid=1.7&amp;rurl=https%3a%2f%2fwww.unilad.co.uk%2fwp-content%2fuploads%2f2016%2f12%2f50046UNILAD-imageoptim-martini-6.gif&amp;ehk=Xat16ScgeyYwheP11BF%2fyFdiDRfs6jRWarzL8%2fwWCNw%3d\n",
            "[!] Error:: HTTP Error 404: Not Found\n",
            "[%] Downloading Image #3 from http://rampages.us/fbgs14/wp-content/uploads/sites/73/2014/06/100_5392.jpg\n",
            "[%] File Downloaded !\n",
            "\n",
            "[%] Downloading Image #4 from http://cooldiyideas.com/wp-content/uploads/2016/01/Glass-Floor-Lamp.jpg\n",
            "[%] File Downloaded !\n",
            "\n",
            "[%] Downloading Image #5 from https://s2.tree-time.ca/tt/images/dogwood_yellow_010_01_600.jpg\n",
            "[%] File Downloaded !\n",
            "\n",
            "[%] Downloading Image #6 from http://www.capesthorne.com/wp-content/uploads/2018/02/Hurricane-Mocktail.jpg\n",
            "[%] File Downloaded !\n",
            "\n",
            "[%] Downloading Image #7 from https://wallpapershome.com/images/wallpapers/grapes-1080x1920-8k-16059.jpg\n",
            "[%] File Downloaded !\n",
            "\n",
            "[%] Downloading Image #8 from http://www.tradewindsfruit.com/content/images/acnistus_arborescens2.jpg\n",
            "[%] File Downloaded !\n",
            "\n",
            "[%] Downloading Image #9 from https://wallpapershome.com/images/wallpapers/ice-720x1280-4k-hd-wallpaper-android-pattern-blue-background-4019.jpg\n",
            "[%] File Downloaded !\n",
            "\n",
            "[%] Downloading Image #10 from https://wallpapershome.com/images/wallpapers/ice-1280x720-glacier-4k-15666.jpg\n",
            "[%] File Downloaded !\n",
            "\n"
          ],
          "name": "stdout"
        }
      ]
    },
    {
      "cell_type": "code",
      "metadata": {
        "colab": {
          "base_uri": "https://localhost:8080/"
        },
        "id": "wXX4t4OtWJz8",
        "outputId": "504e0149-12df-4e84-d438-60a5d7d0f475"
      },
      "source": [
        "from  bing_image_downloader import downloader\n",
        "downloader.download(\"pretty sunflower\",limit=10,output_dir='images')"
      ],
      "execution_count": null,
      "outputs": [
        {
          "output_type": "stream",
          "text": [
            "\n",
            "\n",
            "[!!]Indexing page: 1\n",
            "\n",
            "[%] Indexed 10 Images on Page 1.\n",
            "\n",
            "===============================================\n",
            "\n",
            "[%] Downloading Image #1 from https://i.pinimg.com/736x/77/3f/e6/773fe6cd3196fa5240ccad71389f60d3.jpg\n",
            "[%] File Downloaded !\n",
            "\n",
            "[%] Downloading Image #2 from https://www.wallpapers13.com/wp-content/uploads/2016/08/Sunflower-sunny-summer-days-Desktop-backgrounds-2560x1600-1600x1200.jpg\n",
            "[%] File Downloaded !\n",
            "\n",
            "[%] Downloading Image #3 from https://i.pinimg.com/736x/f0/5c/b1/f05cb16f319b49e7b53f76ecd8433a61.jpg\n",
            "[%] File Downloaded !\n",
            "\n",
            "[%] Downloading Image #4 from https://i.pinimg.com/736x/d8/e2/df/d8e2df4062007bb17d4d08b5678c2ed0.jpg\n",
            "[%] File Downloaded !\n",
            "\n",
            "[%] Downloading Image #5 from https://i.pinimg.com/736x/90/e3/7a/90e37ad3cc5d67242aaedb871a6bf18b.jpg\n",
            "[%] File Downloaded !\n",
            "\n",
            "[%] Downloading Image #6 from https://i.pinimg.com/736x/5d/46/6e/5d466e2bd484ff9e172fda7145612c1f--for-the-birds-cardinals.jpg\n",
            "[%] File Downloaded !\n",
            "\n",
            "[%] Downloading Image #7 from https://i.pinimg.com/736x/08/a4/47/08a447ab19f85c2301af6e7b09ccbc17--sunflower-wedding-flowers-sunflower-bouquets.jpg\n",
            "[%] File Downloaded !\n",
            "\n",
            "[%] Downloading Image #8 from https://emmalovesweddings.com/wp-content/uploads/2019/08/chic-rustic-wedding-cake-with-sunflowers.jpg\n",
            "[%] File Downloaded !\n",
            "\n",
            "[%] Downloading Image #9 from https://i.pinimg.com/736x/af/f2/8a/aff28adfa89e24718e4a0e93bfe6c690.jpg\n",
            "[%] File Downloaded !\n",
            "\n",
            "[%] Downloading Image #10 from https://www.deerpearlflowers.com/wp-content/uploads/2015/09/rustic-wedding-cupcake-table.jpg\n",
            "[%] File Downloaded !\n",
            "\n"
          ],
          "name": "stdout"
        }
      ]
    },
    {
      "cell_type": "code",
      "metadata": {
        "colab": {
          "base_uri": "https://localhost:8080/"
        },
        "id": "SUjUgNh6e-du",
        "outputId": "64617a59-7f59-4fe3-a977-ce0d27504ed2"
      },
      "source": [
        "from  bing_image_downloader import downloader\n",
        "downloader.download(\"ice cream cone\",limit=10,output_dir='images')"
      ],
      "execution_count": null,
      "outputs": [
        {
          "output_type": "stream",
          "text": [
            "\n",
            "\n",
            "[!!]Indexing page: 1\n",
            "\n",
            "[%] Indexed 10 Images on Page 1.\n",
            "\n",
            "===============================================\n",
            "\n",
            "[%] Downloading Image #1 from https://c1.staticflickr.com/5/4030/5076899310_67b9566ac8_b.jpg\n",
            "[%] File Downloaded !\n",
            "\n",
            "[%] Downloading Image #2 from https://i.pinimg.com/736x/29/90/1d/29901d5e64708a03f4f65bd86400ed76.jpg\n",
            "[%] File Downloaded !\n",
            "\n",
            "[%] Downloading Image #3 from https://i.ytimg.com/vi/9TQ1ATwHti0/maxresdefault.jpg\n",
            "[%] File Downloaded !\n",
            "\n",
            "[%] Downloading Image #4 from https://i.pinimg.com/736x/9f/d2/10/9fd210400622b786109fe87c8586bb6c--paulette-royals.jpg\n",
            "[%] File Downloaded !\n",
            "\n",
            "[%] Downloading Image #5 from http://thefancy-media-ec3.thefancy.com/original/20110902/260782783_854ed8477672.jpg\n",
            "[%] File Downloaded !\n",
            "\n",
            "[%] Downloading Image #6 from https://cdn.drawception.com/drawings/4XC74xT6O5.png\n",
            "[%] File Downloaded !\n",
            "\n",
            "[%] Downloading Image #7 from http://i1.wp.com/cakeisnotalie.net/wp-content/uploads/2018/01/HorseWithAnIceCreamCone.jpg\n",
            "[%] File Downloaded !\n",
            "\n",
            "[%] Downloading Image #8 from https://clipartion.com/wp-content/uploads/2015/11/ice-cream-social-free-clipart-free-clip-art-images-830x1462.png\n",
            "[%] File Downloaded !\n",
            "\n",
            "[%] Downloading Image #9 from https://cdn.cltampa.com/files/base/scomm/cltampa/image/2016/09/9x16/960w/Server_lights_a_Black_Rock_Volcano_dessert__Brownie_with_ice_cream__marshmellow__waffle_cone__and_whipped_cream_drizzled_with_caramel_and_chocolate_sauce.57cd8a3c70dcd.jpg\n",
            "[%] File Downloaded !\n",
            "\n",
            "[%] Downloading Image #10 from https://www.birthdaycakeshop.com.au/wp-content/uploads/2018/08/ucone1.jpg\n",
            "[%] File Downloaded !\n",
            "\n"
          ],
          "name": "stdout"
        }
      ]
    }
  ]
}